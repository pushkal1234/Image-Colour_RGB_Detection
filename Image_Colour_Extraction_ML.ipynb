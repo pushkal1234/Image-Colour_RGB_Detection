{
  "nbformat": 4,
  "nbformat_minor": 0,
  "metadata": {
    "colab": {
      "name": "IISERB_Image Colour Detection.ipynb",
      "provenance": [],
      "collapsed_sections": [],
      "authorship_tag": "ABX9TyN3/dSgXcfeRmN1Pn37OFbA",
      "include_colab_link": true
    },
    "kernelspec": {
      "name": "python3",
      "display_name": "Python 3"
    },
    "language_info": {
      "name": "python"
    }
  },
  "cells": [
    {
      "cell_type": "markdown",
      "metadata": {
        "id": "view-in-github",
        "colab_type": "text"
      },
      "source": [
        "<a href=\"https://colab.research.google.com/github/pushkal1234/Image-Colour_RGB_Detection/blob/main/Image_Colour_Extraction_ML.ipynb\" target=\"_parent\"><img src=\"https://colab.research.google.com/assets/colab-badge.svg\" alt=\"Open In Colab\"/></a>"
      ]
    },
    {
      "cell_type": "markdown",
      "metadata": {
        "id": "OVDDFyVsD5fl"
      },
      "source": [
        "**Color Identification using Machine Learning**\n",
        "\n",
        "In this notebook, I have used machine learning algorithm, KMeans, to extract colors from a give image. I will use OpenCV2 for image manipulation, apply KMeans to identify the major colors and then plot the information using Matplotlib."
      ]
    },
    {
      "cell_type": "markdown",
      "metadata": {
        "id": "UbNRUvf8EJ9r"
      },
      "source": [
        "**Import libraries**\n",
        "\n",
        "Let's first import necessary libraries. We need sklearn for KMeans algorithm, matplotlib.pyplot for plotting graphs, numpy to work with arrays, cv2 to work with image data, collections to use Counter to count values, rgb2lab to convert RGB values and deltaE_cie76 to calculate similarity between colors."
      ]
    },
    {
      "cell_type": "code",
      "metadata": {
        "id": "yVatJgQ3Ampy"
      },
      "source": [
        "from sklearn.cluster import KMeans\n",
        "import matplotlib.pyplot as plt\n",
        "import numpy as np\n",
        "import cv2\n",
        "from collections import Counter\n",
        "from skimage.color import rgb2lab, deltaE_cie76\n",
        "import os\n",
        "\n",
        "%matplotlib inline"
      ],
      "execution_count": null,
      "outputs": []
    },
    {
      "cell_type": "markdown",
      "metadata": {
        "id": "nMQ8qfn0ESni"
      },
      "source": [
        "**Working with OpenCV**"
      ]
    },
    {
      "cell_type": "code",
      "metadata": {
        "id": "N7UGT_ApEWNw"
      },
      "source": [
        "image = cv2.imread('sample_image.jpg')\n",
        "print(\"The type of this input is {}\".format(type(image)))\n",
        "print(\"Shape: {}\".format(image.shape))\n",
        "plt.imshow(image)"
      ],
      "execution_count": null,
      "outputs": []
    },
    {
      "cell_type": "markdown",
      "metadata": {
        "id": "NiZv39zyEdQh"
      },
      "source": [
        "We see that the image has different colors as compared to the original image. This is because by default OpenCV reads the images in the color order BLUE GREEN RED i.e. BGR. Thus, we need to convert it into REG GREEN BLUE i.e. RGB."
      ]
    },
    {
      "cell_type": "code",
      "metadata": {
        "id": "IzeBIT6UEegR"
      },
      "source": [
        "image = cv2.cvtColor(image, cv2.COLOR_BGR2RGB)\n",
        "plt.imshow(image)"
      ],
      "execution_count": null,
      "outputs": []
    },
    {
      "cell_type": "code",
      "metadata": {
        "id": "eKKXBQKEEgsA"
      },
      "source": [
        "\n",
        "gray_image = cv2.cvtColor(image, cv2.COLOR_BGR2GRAY)\n",
        "plt.imshow(gray_image, cmap='gray')"
      ],
      "execution_count": null,
      "outputs": []
    },
    {
      "cell_type": "markdown",
      "metadata": {
        "id": "0_0P6t4aEppP"
      },
      "source": [
        "We might want to resize the image to a certain size whenever the images are huge or when we are working with multiple images of different dimensions"
      ]
    },
    {
      "cell_type": "code",
      "metadata": {
        "id": "m5A-hAK8EjGV"
      },
      "source": [
        "resized_image = cv2.resize(image, (1200, 600))\n",
        "plt.imshow(resized_image)"
      ],
      "execution_count": null,
      "outputs": []
    },
    {
      "cell_type": "markdown",
      "metadata": {
        "id": "nppSGIjhEuFh"
      },
      "source": [
        "**Color Identification**\n",
        "\n",
        "Not that we know a bit about OpenCV, let's start identifying colors from an image.\n",
        "\n",
        "First, we will define a function that can give us the hex values of our the colors that we will identify."
      ]
    },
    {
      "cell_type": "code",
      "metadata": {
        "id": "ZSev2eSWEqvs"
      },
      "source": [
        "def RGB2HEX(color):\n",
        "    return \"#{:02x}{:02x}{:02x}\".format(int(color[0]), int(color[1]), int(color[2]))"
      ],
      "execution_count": null,
      "outputs": []
    },
    {
      "cell_type": "markdown",
      "metadata": {
        "id": "d4x0lV8eE3Py"
      },
      "source": [
        "KMeans expects flattened array as input during its fit method. Thus, we need to reshape the image using numpy. Then, we can apply KMeans to first fit and then predict on the image to get the results. Then, the cluster colors are identified an arranged in the correct order. We plot the colors as a pie chart.\n",
        "\n",
        "I have combined all the steps in two method."
      ]
    },
    {
      "cell_type": "code",
      "metadata": {
        "id": "S4_bwez3E5QT"
      },
      "source": [
        "def get_image(image_path):\n",
        "    image = cv2.imread(image_path)\n",
        "    image = cv2.cvtColor(image, cv2.COLOR_BGR2RGB)\n",
        "    return image"
      ],
      "execution_count": null,
      "outputs": []
    },
    {
      "cell_type": "code",
      "metadata": {
        "id": "XV-aNMx1E8_7"
      },
      "source": [
        ""
      ],
      "execution_count": null,
      "outputs": []
    },
    {
      "cell_type": "code",
      "metadata": {
        "id": "W3HCqRqzE9DY"
      },
      "source": [
        "def get_colors(image, number_of_colors, show_chart):\n",
        "    \n",
        "    modified_image = cv2.resize(image, (600, 400), interpolation = cv2.INTER_AREA)\n",
        "    modified_image = modified_image.reshape(modified_image.shape[0]*modified_image.shape[1], 3)\n",
        "    \n",
        "    clf = KMeans(n_clusters = number_of_colors)\n",
        "    labels = clf.fit_predict(modified_image)\n",
        "    \n",
        "    counts = Counter(labels)\n",
        "    # sort to ensure correct color percentage\n",
        "    counts = dict(sorted(counts.items()))\n",
        "    \n",
        "    center_colors = clf.cluster_centers_\n",
        "    # We get ordered colors by iterating through the keys\n",
        "    ordered_colors = [center_colors[i] for i in counts.keys()]\n",
        "    hex_colors = [RGB2HEX(ordered_colors[i]) for i in counts.keys()]\n",
        "    rgb_colors = [ordered_colors[i] for i in counts.keys()]\n",
        "\n",
        "    if (show_chart):\n",
        "        plt.figure(figsize = (8, 6))\n",
        "        plt.pie(counts.values(), labels = hex_colors, colors = hex_colors)\n",
        "    \n",
        "    return rgb_colors"
      ],
      "execution_count": null,
      "outputs": []
    },
    {
      "cell_type": "code",
      "metadata": {
        "id": "_oOndSaFFCmB"
      },
      "source": [
        "get_colors(get_image('sample_image.jpg'), 8, True)"
      ],
      "execution_count": null,
      "outputs": []
    },
    {
      "cell_type": "markdown",
      "metadata": {
        "id": "VZXmmASTFG1t"
      },
      "source": [
        "**Search images using Color**\n",
        "\n",
        "From the model above, we can extract the major colors. This create the opportunity to search for images based on certain colors. We can select a color and if it's hex matches or is close to the hex of the major colors of the image, we say it's a match.\n",
        "\n",
        "We first get all the images and store them in the images variable."
      ]
    },
    {
      "cell_type": "code",
      "metadata": {
        "id": "Qsgpuf3fFKRF"
      },
      "source": [
        "IMAGE_DIRECTORY = 'images'\n",
        "COLORS = {\n",
        "    'GREEN': [0, 128, 0],\n",
        "    'BLUE': [0, 0, 128],\n",
        "    'YELLOW': [255, 255, 0]\n",
        "}\n",
        "images = []\n",
        "\n",
        "for file in os.listdir(IMAGE_DIRECTORY):\n",
        "    if not file.startswith('.'):\n",
        "        images.append(get_image(os.path.join(IMAGE_DIRECTORY, file)))"
      ],
      "execution_count": null,
      "outputs": []
    },
    {
      "cell_type": "code",
      "metadata": {
        "id": "RYYQUN1mFPx5"
      },
      "source": [
        "plt.figure(figsize=(20, 10))\n",
        "for i in range(len(images)):\n",
        "    plt.subplot(1, len(images), i+1)\n",
        "    plt.imshow(images[i])"
      ],
      "execution_count": null,
      "outputs": []
    },
    {
      "cell_type": "markdown",
      "metadata": {
        "id": "sliNbYSfFS_G"
      },
      "source": [
        "We define the function below. We will try to match with the top 10 colors of the image. It is highly possible that there will be no extact match for the hex codes, thus we calculate the similarity between the chosen color and the colors of the image.\n",
        "\n",
        "We keep a threshold value such that if the difference between the chosen color and any of the selected colors is less than that threshold, we declare it as a match.\n",
        "\n",
        "Hex values or RGB values cannot be directly compared so we first convert them to a device independant and color uniform space. We use rgb2lab to convert the values and then find the difference using deltaE_cie76. The method calculates the difference between all top 5 colors of the image and the selected color and if atleast one is below the threshold, we show the image."
      ]
    },
    {
      "cell_type": "code",
      "metadata": {
        "id": "sNtBfO54FT4c"
      },
      "source": [
        "def match_image_by_color(image, color, threshold = 60, number_of_colors = 10): \n",
        "    \n",
        "    image_colors = get_colors(image, number_of_colors, False)\n",
        "    selected_color = rgb2lab(np.uint8(np.asarray([[color]])))\n",
        "\n",
        "    select_image = False\n",
        "    for i in range(number_of_colors):\n",
        "        curr_color = rgb2lab(np.uint8(np.asarray([[image_colors[i]]])))\n",
        "        diff = deltaE_cie76(selected_color, curr_color)\n",
        "        if (diff < threshold):\n",
        "            select_image = True\n",
        "    \n",
        "    return select_image"
      ],
      "execution_count": null,
      "outputs": []
    },
    {
      "cell_type": "markdown",
      "metadata": {
        "id": "9_1rBCFbFcar"
      },
      "source": [
        "We call the above method for all the images in our set and show relevant images out of the same that approximately match our selected color."
      ]
    },
    {
      "cell_type": "code",
      "metadata": {
        "id": "hw8mO5nUFdBL"
      },
      "source": [
        "def show_selected_images(images, color, threshold, colors_to_match):\n",
        "    index = 1\n",
        "    \n",
        "    for i in range(len(images)):\n",
        "        selected = match_image_by_color(images[i],\n",
        "                                        color,\n",
        "                                        threshold,\n",
        "                                        colors_to_match)\n",
        "        if (selected):\n",
        "            plt.subplot(1, 5, index)\n",
        "            plt.imshow(images[i])\n",
        "            index += 1"
      ],
      "execution_count": null,
      "outputs": []
    },
    {
      "cell_type": "code",
      "metadata": {
        "id": "JTg4VBi_Fk6I"
      },
      "source": [
        "# Search for GREEN\n",
        "plt.figure(figsize = (20, 10))\n",
        "show_selected_images(images, COLORS['GREEN'], 60, 5)"
      ],
      "execution_count": null,
      "outputs": []
    },
    {
      "cell_type": "code",
      "metadata": {
        "id": "fe6EwrjxFo8Z"
      },
      "source": [
        "# Search for BLUE\n",
        "plt.figure(figsize = (20, 10))\n",
        "show_selected_images(images, COLORS['BLUE'], 60, 5)"
      ],
      "execution_count": null,
      "outputs": []
    },
    {
      "cell_type": "code",
      "metadata": {
        "id": "A-LIvTl_FuHX"
      },
      "source": [
        "# Search for YELLOW\n",
        "plt.figure(figsize = (20, 10))\n",
        "show_selected_images(images, COLORS['YELLOW'], 60, 5)"
      ],
      "execution_count": null,
      "outputs": []
    },
    {
      "cell_type": "markdown",
      "metadata": {
        "id": "W8rJZgkdFyNY"
      },
      "source": [
        "\n",
        "**Conclusion**\n",
        "\n",
        "In this notebook, we used KMeans to extract majority colors from images. We then used the RGB Values of Colors to identify images from a collection that have that color in them."
      ]
    }
  ]
}